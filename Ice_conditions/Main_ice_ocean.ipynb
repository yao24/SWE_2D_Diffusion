{
 "cells": [
  {
   "cell_type": "code",
   "execution_count": null,
   "id": "76349013",
   "metadata": {},
   "outputs": [],
   "source": [
    "%matplotlib notebook\n",
    "%pylab\n",
    "from scipy.interpolate import griddata\n",
    "from matplotlib import cm\n",
    "\n",
    "# Call Inputs\n",
    "from Inputs import*"
   ]
  },
  {
   "cell_type": "code",
   "execution_count": null,
   "id": "7ed7c5e8",
   "metadata": {
    "scrolled": false
   },
   "outputs": [],
   "source": [
    "\n",
    "\n",
    "'''\n",
    "    Visualisation function\n",
    "\n",
    "    Order           : contains the list of the polynomial order used in the numerical integration\n",
    "    N_element       : contains the number of elements in the domain\n",
    "    time_method     : time integration method\n",
    "    ti_method       : stages of the time integration method (implicit Runge Kutta method)\n",
    "    icase           : select the time of the boundary conditions you want to test\n",
    "    method_type     : continous galerkin (cg) method, it is the only one implemented in Module_ice_ocean\n",
    "    integration_type: exact or inexact integration\n",
    "    text_case       : select either we are in unit test case or the ice-ocean simulation\n",
    "\n",
    "\n",
    "\n",
    "'''\n",
    "\n",
    "order = array([4])        # polynomial order\n",
    "Nv = array([4])\n",
    "kstages = 3\n",
    "cfl = 0.25\n",
    "dt = 1e-2\n",
    "Tfinal = 50\n",
    "\n",
    "integration_type = 1      # % = 1 is inexact and = 2 is exact\n",
    "iplot = False             # plot the solution\n",
    "        \n",
    "x_boundary = [7,4]    # Bottom and Top (x = -1 and x = +1)\n",
    "y_boundary = [4,4]    # Left and Right (y = -1 and x = +1)\n",
    "\n",
    "mixed = True\n",
    "\n",
    "stol = 1e-12\n",
    "\n",
    "solver_type = 2  # 1 = default\n",
    "                 # 2 = iterative(gmres)\n",
    "# Simulation domain\n",
    "ax = 0\n",
    "bx = 0.05\n",
    "ay = 0\n",
    "by = 0.1\n",
    "\n",
    "# Initialization\n",
    "\n",
    "Tw = 2.3\n",
    "\n",
    "for iN,N in enumerate(order):\n",
    "\n",
    "    cfl = 1/(N+1)                     # CFL number\n",
    "\n",
    "    S,T,coord,tf,bc_ice,temp_profile = simulation2(cfl,N,Nv,kstages,integration_type,Tw,Tfinal,\\\n",
    "                                           x_boundary,y_boundary,ax,bx,ay,by, solver_type)\n",
    "\n",
    "# End of the simulation\n"
   ]
  },
  {
   "cell_type": "code",
   "execution_count": null,
   "id": "36e2e686",
   "metadata": {},
   "outputs": [],
   "source": [
    "# Show the numerical simulations \n",
    "\n",
    "figures(coord, S,T)"
   ]
  },
  {
   "cell_type": "code",
   "execution_count": null,
   "id": "6dd6c706",
   "metadata": {},
   "outputs": [],
   "source": []
  },
  {
   "cell_type": "code",
   "execution_count": null,
   "id": "13250ca7",
   "metadata": {},
   "outputs": [],
   "source": [
    "import pandas as pd\n",
    "\n",
    "data = pd.read_csv('NUMO/temp_profile_data1.csv')\n",
    "\n",
    "# Plot the temperature profile through the computation domain at mid depth\n",
    "\n",
    "profile(data, temp_profile)\n"
   ]
  },
  {
   "cell_type": "code",
   "execution_count": null,
   "id": "b7dc1406",
   "metadata": {},
   "outputs": [],
   "source": []
  }
 ],
 "metadata": {
  "kernelspec": {
   "display_name": "Python 3 (ipykernel)",
   "language": "python",
   "name": "python3"
  },
  "language_info": {
   "codemirror_mode": {
    "name": "ipython",
    "version": 3
   },
   "file_extension": ".py",
   "mimetype": "text/x-python",
   "name": "python",
   "nbconvert_exporter": "python",
   "pygments_lexer": "ipython3",
   "version": "3.8.11"
  }
 },
 "nbformat": 4,
 "nbformat_minor": 5
}
