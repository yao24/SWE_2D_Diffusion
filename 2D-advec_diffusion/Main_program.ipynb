{
 "cells": [
  {
   "cell_type": "code",
   "execution_count": null,
   "id": "f6fafa2e",
   "metadata": {},
   "outputs": [],
   "source": [
    "%matplotlib notebook\n",
    "%pylab\n",
    "from scipy.interpolate import griddata\n",
    "import pandas as pd\n",
    "from time import perf_counter\n",
    "from sympy import*"
   ]
  },
  {
   "cell_type": "code",
   "execution_count": null,
   "id": "488719ae",
   "metadata": {},
   "outputs": [],
   "source": [
    "from Inputs import*"
   ]
  },
  {
   "cell_type": "code",
   "execution_count": null,
   "id": "9b39956e",
   "metadata": {
    "scrolled": false
   },
   "outputs": [],
   "source": [
    "order = array([2])        # polynomial order\n",
    "Nv = array([5])\n",
    "kstages = 3\n",
    "cfl = 0.25\n",
    "dt = 1e-2\n",
    "Tfinal = 0.2\n",
    "\n",
    "time_method = \"BDF2\"      # IRK, BDF2 or BDF3\n",
    "integration_type = 1      # % = 1 is inexact and = 2 is exact\n",
    "iplot = False             # plot the solution\n",
    "icase = 1                 # select icase: 1,2,3,4\n",
    "\n",
    "alpha = 1              \n",
    "beta = -1#-1/2                  # Dirichlet: alpha = 0, beta = 1\n",
    "                               # Neumann: alpha = 1, beta = 0\n",
    "                               # Robin: alpha = 1, beta != 0\n",
    "        \n",
    "x_boundary = [5,5]    # Bottom and Top (x = -1 and x = +1)\n",
    "y_boundary = [5,5]    # Left and Right (y = -1 and x = +1)\n",
    "    \n",
    "# Domain and diffusion coefficient\n",
    "\n",
    "ax = -1 ; bx = 1\n",
    "c = 1\n",
    "\n",
    "for iN,N in enumerate(order):\n",
    "    \n",
    "    cfl = 1/(N+1)       # cfl number\n",
    "    \n",
    "    qe,q,coord = simulation(N,Nv,time_method,kstages,integration_type,icase,Tfinal,alpha,beta,\\\n",
    "               x_boundary,y_boundary,ax,bx,c,cfl)\n",
    "        \n",
    "        \n",
    "        "
   ]
  },
  {
   "cell_type": "code",
   "execution_count": null,
   "id": "b0e65d0c",
   "metadata": {},
   "outputs": [],
   "source": [
    "figures(coord, qe,q)"
   ]
  }
 ],
 "metadata": {
  "kernelspec": {
   "display_name": "Python 3 (ipykernel)",
   "language": "python",
   "name": "python3"
  },
  "language_info": {
   "codemirror_mode": {
    "name": "ipython",
    "version": 3
   },
   "file_extension": ".py",
   "mimetype": "text/x-python",
   "name": "python",
   "nbconvert_exporter": "python",
   "pygments_lexer": "ipython3",
   "version": "3.8.11"
  }
 },
 "nbformat": 4,
 "nbformat_minor": 5
}
