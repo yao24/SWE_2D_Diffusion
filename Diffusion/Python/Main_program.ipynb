{
 "cells": [
  {
   "cell_type": "markdown",
   "metadata": {},
   "source": [
    "\n",
    "```Author: Yao Gahounzo```\n",
    "\n",
    "This program solves the 2D-diffusion problem using the continuous Galerkin (CG) method. The method is implemented with two different boundary conditions, Dirichlet, Neumann, and Robin. The CG method derivation and all the necessary mathematics are in the file [CG_method.pdf](https://github.com/yao24/SWE_2D_Diffusion/blob/main/CG_method.pdf).\n",
    "\n",
    "This program call the module Inputs.py which call all the subroutines needed in the CG method from module_diffusion_2D.\n"
   ]
  },
  {
   "cell_type": "code",
   "execution_count": null,
   "metadata": {},
   "outputs": [],
   "source": [
    "%matplotlib notebook\n",
    "%pylab\n",
    "from scipy.interpolate import griddata\n",
    "from matplotlib import cm"
   ]
  },
  {
   "cell_type": "code",
   "execution_count": null,
   "metadata": {},
   "outputs": [],
   "source": [
    "# Call Inputs\n",
    "from Inputs import*"
   ]
  },
  {
   "cell_type": "code",
   "execution_count": null,
   "metadata": {
    "scrolled": false
   },
   "outputs": [],
   "source": [
    "orders = array([2])        # polynomial order\n",
    "Nv = array([4,8])          # Number of elements in the domain\n",
    "kstages = 3\n",
    "cfl = 0.25\n",
    "dt = 1e-2\n",
    "Tfinal = 0.01\n",
    "\n",
    "time_method = \"BDF2\"      # IRK, BDF2 or BDF3\n",
    "integration_type = 1      # % = 1 is inexact and = 2 is exact\n",
    "iplot = False             # plot the solution\n",
    "iconvg = False             # To plot the convergence\n",
    "save_data = False          # Save error data for separate visualtion in Analysis folder\n",
    "icase = 2                 # select icase: 1,2,3,4\n",
    "\n",
    "alpha = 1              \n",
    "beta = -1#-1/2                  # Dirichlet: alpha = 0, beta = 1\n",
    "                               # Neumann: alpha = 1, beta = 0\n",
    "                               # Robin: alpha = 1, beta != 0\n",
    "        \n",
    "x_boundary = [7,4]    # Bottom and Top (x = -1 and x = +1)\n",
    "y_boundary = [4,4]    # Left and Right (y = -1 and x = +1)\n",
    "\n",
    "solver_type = 1  # 1 = default\n",
    "                 # 2 = iterative(gmres)\n",
    "    \n",
    "\n",
    "if(save_data):\n",
    "    \n",
    "    Visualisation2(orders,Nv,time_method,kstages,integration_type,icase,Tfinal,alpha,beta,\\\n",
    "               x_boundary,y_boundary, solver_type)\n",
    "    \n",
    "else:\n",
    "\n",
    "    # Domain and diffusion coefficient\n",
    "\n",
    "    ax,bx,ay, by,c = domain(icase)\n",
    "    bc_type(x_boundary,y_boundary)\n",
    "\n",
    "    # Declare some variable and array\n",
    "\n",
    "    l2_norm = zeros((len(orders), len(Nv)))\n",
    "\n",
    "    # Call 2D solver \n",
    "    for iN,N in enumerate(orders):\n",
    "\n",
    "        cfl = 0.001#1/(N+1)       # cfl number\n",
    "\n",
    "        qe, q, coord, l2e_norm = simulation2(cfl,N,Nv,time_method,kstages,integration_type,icase,\\\n",
    "                                                               Tfinal,alpha,beta,x_boundary,y_boundary,ax,bx,ay,by,c,\\\n",
    "                                                               solver_type)\n",
    "\n",
    "        l2_norm[iN,:] = l2e_norm\n"
   ]
  },
  {
   "cell_type": "code",
   "execution_count": null,
   "metadata": {
    "scrolled": false
   },
   "outputs": [],
   "source": [
    "# Show the exact and numerical solutions, if save_data = False\n",
    "\n",
    "if(iplot): figures(coord, qe,q)"
   ]
  },
  {
   "cell_type": "code",
   "execution_count": null,
   "metadata": {},
   "outputs": [],
   "source": [
    "# Show the convergence studies, if save_data = False\n",
    "\n",
    "if(iconvg): convergences(l2_norm,Nv,orders,time_method)"
   ]
  }
 ],
 "metadata": {
  "interpreter": {
   "hash": "8b2adaf1374578fbff93f00816158cd763fc54fce8c84cb3733c35fd4caa16a2"
  },
  "kernelspec": {
   "display_name": "Python 3 (ipykernel)",
   "language": "python",
   "name": "python3"
  },
  "language_info": {
   "codemirror_mode": {
    "name": "ipython",
    "version": 3
   },
   "file_extension": ".py",
   "mimetype": "text/x-python",
   "name": "python",
   "nbconvert_exporter": "python",
   "pygments_lexer": "ipython3",
   "version": "3.8.11"
  }
 },
 "nbformat": 4,
 "nbformat_minor": 4
}
