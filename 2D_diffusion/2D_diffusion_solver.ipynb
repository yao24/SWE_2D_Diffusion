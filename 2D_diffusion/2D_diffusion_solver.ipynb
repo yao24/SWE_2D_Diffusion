{
 "cells": [
  {
   "cell_type": "markdown",
   "metadata": {},
   "source": [
    "\n",
    "```Author: Yao Gahounzo```\n",
    "\n",
    "This program solves the 2D-diffusion problem using the continuous Galerkin (CG) method. The method is implemented with two different boundary conditions, Dirichlet, Neumann, and Robin. The CG method derivation and all the necessary mathematics are in the file [CG_method.pdf](https://github.com/yao24/SWE_2D_Diffusion/blob/main/CG_method.pdf).\n",
    "\n",
    "This program call the module func_2D which contains all the subroutines needed in the CG method.\n"
   ]
  },
  {
   "cell_type": "code",
   "execution_count": 1,
   "metadata": {},
   "outputs": [
    {
     "name": "stdout",
     "output_type": "stream",
     "text": [
      "Using matplotlib backend: nbAgg\n",
      "Populating the interactive namespace from numpy and matplotlib\n"
     ]
    }
   ],
   "source": [
    "%matplotlib notebook\n",
    "%pylab\n",
    "from scipy.interpolate import griddata\n",
    "from matplotlib import cm\n",
    "#import pandas as pd\n",
    "#from time import perf_counter\n",
    "#from sympy import*\n",
    "#import warnings\n",
    "#warnings.filterwarnings('ignore')"
   ]
  },
  {
   "cell_type": "code",
   "execution_count": 2,
   "metadata": {},
   "outputs": [],
   "source": [
    "# Call module func_2D\n",
    "#from change_func import*\n",
    "from module_2D_diffusion_bdf2_3 import*"
   ]
  },
  {
   "cell_type": "code",
   "execution_count": 3,
   "metadata": {},
   "outputs": [],
   "source": [
    "# Domain of integration, look into func_2D module to add your own problem or initial condition\n",
    "\n",
    "def domain(icase):\n",
    "    \n",
    "    \n",
    "    if(icase == 1):\n",
    "        ax = -1 ; bx = 1 ; coeff = 1.0\n",
    "    elif(icase == 2):\n",
    "        ax = 0 ; bx = 2*pi ; coeff = 1.0\n",
    "    elif(icase == 3):\n",
    "        ax = -1 ; bx = 1 ; coeff = 1.0\n",
    "    elif(icase == 4):\n",
    "        ax = -1 ; bx = 1 ; coeff = 0.01\n",
    "    elif(icase == 5):\n",
    "        ax = 0 ; bx = 3 ; coeff = 1/25\n",
    "    \n",
    "    print(\"==========================================\")\n",
    "    print(\"Problem: Diffusion\")\n",
    "    print(\"Domain: [{}, {}]\".format(ax,bx)) \n",
    "    print(\"Diffusivity: {}\".format(coeff)) \n",
    "    \n",
    "    return ax, bx, coeff\n",
    "\n",
    "# Boundary conditions \n",
    "    \n",
    "def bc_type(x_boundary,y_boundary):\n",
    "    \n",
    "    bound = array([x_boundary,y_boundary])\n",
    "    \n",
    "    sbound = [\"Dirichlet\", \"Neumann\", \"Robin\"]\n",
    "    nbound = [5,4,8]\n",
    "    \n",
    "    st = \"\"\n",
    "    \n",
    "    for i in range(3):\n",
    "        \n",
    "        if(nbound[i] in bound):\n",
    "            st += sbound[i] + \" & \"\n",
    "            \n",
    "    print(\"Boundary conditions: \",st)\n",
    "    \n",
    "    print(\"==========================================\\n\") "
   ]
  },
  {
   "cell_type": "code",
   "execution_count": null,
   "metadata": {
    "scrolled": false
   },
   "outputs": [
    {
     "name": "stdout",
     "output_type": "stream",
     "text": [
      "==========================================\n",
      "Problem: Diffusion\n",
      "Domain: [-1, 1]\n",
      "Diffusivity: 0.01\n",
      "Boundary conditions:  Dirichlet & Robin & \n",
      "==========================================\n",
      "\n",
      "N = 2, nel = 64, Np = 289\n",
      "\tdt = 9.5238e-04\n",
      "\tNumber of time steps = 105\n",
      "\tl2_norm = 8.2754e-02\n",
      "\twalltime: 0.2422694369999998\n",
      "N = 2, nel = 256, Np = 1089\n",
      "\tdt = 6.7431e-05\n",
      "\tNumber of time steps = 1483\n",
      "\tl2_norm = 2.5434e-02\n",
      "\twalltime: 3.340236523\n",
      "N = 2, nel = 1024, Np = 4225\n",
      "\tdt = 4.4815e-06\n",
      "\tNumber of time steps = 22314\n"
     ]
    }
   ],
   "source": [
    "order = array([2])        # polynomial order\n",
    "N_element = array([8,16,32])\n",
    "kstages = 4\n",
    "cfl = 0.25\n",
    "dt = 1e-2\n",
    "Tfinal = 0.1\n",
    "\n",
    "time_method = \"BDF2\"      # IRK, BDF2 or BDF3\n",
    "integration_type = 1      # % = 1 is inexact and = 2 is exact\n",
    "iplot = False             # plot the solution\n",
    "icase = 4                 # select icase: 1,2,3,4\n",
    "\n",
    "alpha = 1              \n",
    "beta = -1#-1/2                  # Dirichlet: alpha = 0, beta = 1\n",
    "                               # Neumann: alpha = 1, beta = 0\n",
    "                               # Robin: alpha = 1, beta != 0\n",
    "        \n",
    "x_boundary = [5,8]    # Bottom and Top (x = -1 and x = +1)\n",
    "y_boundary = [5,8]    # Left and Right (y = -1 and x = +1)\n",
    "    \n",
    "# Domain and diffusion coefficient\n",
    "\n",
    "ax,bx,c = domain(icase)\n",
    "bc_type(x_boundary,y_boundary)\n",
    "\n",
    "len_el = len(N_element)\n",
    "len_pol = len(order)\n",
    "l2e_norm = zeros((len_pol, len_el))\n",
    "max_norm = zeros((len_pol, len_el))\n",
    "\n",
    "Nv = N_element\n",
    "    \n",
    "for iN,N in enumerate(order):\n",
    "    \n",
    "    cfl = 20.0#1/(N+1)       # cfl number\n",
    "    \n",
    "    N = order[iN]\n",
    "    if (integration_type == 1):\n",
    "        Q = N\n",
    "    elif (integration_type == 2):\n",
    "        Q = N+1\n",
    "\n",
    "    wall = 0\n",
    "    \n",
    "\n",
    "    for e, nel in enumerate(Nv):\n",
    "            \n",
    "        Nelx = nel; Nely = nel\n",
    "        Nx = Nelx*N+1\n",
    "        Ny = Nely*N+1\n",
    "        Np = Nx*Ny\n",
    "        Ne = Nelx*Nely\n",
    "        Nbound = 2*Nx + 2*(Ny-2)\n",
    "        Nside = 2*Ne + Nelx + Nely\n",
    "        \n",
    "        tic = perf_counter()\n",
    "        \n",
    "    \n",
    "        qe, q,coord,intma,ntime,tf = diffusion_solver(N,Q,Ne, Np, ax, bx, Nelx, Nely, Nx, Ny, Nbound,Nside,\\\n",
    "                                             icase,Tfinal,c,cfl,kstages,time_method,alpha,beta,\\\n",
    "                                             x_boundary,y_boundary)\n",
    "        \n",
    "        #print(\"\\twalltime: {}\".format(tf))\n",
    "            \n",
    "        #Compute Norm\n",
    "        \n",
    "        #print(abs(q-qe))\n",
    "        \n",
    "        top = sum((q - qe)**2)\n",
    "        bot = sum(qe**2)\n",
    "\n",
    "        e2 = sqrt(top/bot)\n",
    "        \n",
    "        print(\"\\tl2_norm = {:.4e}\".format(e2))\n",
    "        print(\"\\twalltime: {}\".format(tf))\n",
    "        \n",
    "        l2e_norm[iN,e] = e2\n",
    "        \n",
    "        \n",
    "        "
   ]
  },
  {
   "cell_type": "code",
   "execution_count": null,
   "metadata": {},
   "outputs": [],
   "source": [
    "#intma"
   ]
  },
  {
   "cell_type": "code",
   "execution_count": null,
   "metadata": {},
   "outputs": [],
   "source": [
    "xmin = min(coord[:,0])\n",
    "xmax = max(coord[:,0])\n",
    "ymin = min(coord[:,1])\n",
    "ymax = max(coord[:,1])\n",
    "xe = coord[:,0]\n",
    "ye = coord[:,1]\n",
    "nx = 200\n",
    "ny = 200\n",
    "dx = (xmax-xmin)/nx\n",
    "dy = (ymax-ymin)/ny\n",
    "x1 = arange(xmin,xmax+dx,dx)\n",
    "y1 = arange(ymin,ymax+dy,dy)\n",
    "xi,yi = meshgrid(x1,y1)"
   ]
  },
  {
   "cell_type": "code",
   "execution_count": null,
   "metadata": {},
   "outputs": [],
   "source": [
    "\n",
    "q_2d = griddata((xe,ye),q,(xi,yi), method='cubic')\n",
    "\n",
    "fig = figure(2)\n",
    "fx = fig.add_subplot(111, projection='3d')\n",
    "surf = fx.plot_surface(xi,yi,q_2d,rstride = 1, cstride = 1,antialiased=False)\n",
    "fig.colorbar(surf)\n",
    "\n",
    "title(\"Numerical solution\")\n",
    "xlabel(\"x\")\n",
    "ylabel(\"y\")\n",
    "\n",
    "show()"
   ]
  },
  {
   "cell_type": "code",
   "execution_count": null,
   "metadata": {},
   "outputs": [],
   "source": [
    "qe_2d = griddata((xe,ye),qe,(xi,yi), method='cubic')\n",
    "\n",
    "fig = figure(3)\n",
    "fx = fig.add_subplot(111, projection='3d')\n",
    "surf = fx.plot_surface(xi,yi,qe_2d,rstride = 1, cstride = 1,antialiased=False)\n",
    "fig.colorbar(surf,anchor=(0, 0.3), shrink=0.7)\n",
    "title(\"Exact solution\")\n",
    "xlabel(\"x\")\n",
    "ylabel(\"y\")\n",
    "show()"
   ]
  },
  {
   "cell_type": "code",
   "execution_count": null,
   "metadata": {
    "scrolled": false
   },
   "outputs": [],
   "source": [
    "figure(4)\n",
    "imshow(q_2d, extent=[ax, bx, ax, bx],origin='lower',cmap=cm.coolwarm)\n",
    "colorbar()\n",
    "clim(q.min(), q.max())\n",
    "title(\"Numerical solution\")\n",
    "xlabel(\"x\")\n",
    "ylabel(\"y\")\n",
    "show()"
   ]
  },
  {
   "cell_type": "code",
   "execution_count": null,
   "metadata": {},
   "outputs": [],
   "source": [
    "print(\"min_q  = \",q.min())\n",
    "print(\"min_qe = \",qe.min())\n",
    "\n",
    "print(\"\\nmax_q  = \",q.max())\n",
    "print(\"max_qe = \",qe.max())"
   ]
  },
  {
   "cell_type": "code",
   "execution_count": null,
   "metadata": {},
   "outputs": [],
   "source": [
    "import cg_graphics           # import cg_graphics module\n",
    "\n",
    "figure(5)\n",
    "clf()\n",
    "\n",
    "for i,N in enumerate(order):\n",
    "\n",
    "    if(N >= 2):\n",
    "        p = polyfit(log(Nv[:3]), log(l2e_norm[i][:3]), 1)\n",
    "    else:\n",
    "\n",
    "        p = polyfit(log(Nv), log(l2e_norm[i]), 1)\n",
    "\n",
    "    loglog(Nv, l2e_norm[i], '-o',markersize=5, label = 'N = {:d}: rate = {:.2f}'.format(N,p[0]))\n",
    "\n",
    "    loglog(Nv, exp(polyval(p,log(Nv))), '--')\n",
    "\n",
    "cg_graphics.set_xticks(Nv)\n",
    "xlabel('# Elements')\n",
    "ylabel('Error (L2-error)')\n",
    "title('Error vs number of Elements ({:s}, {:s})'.format('cg'.upper(), time_method))\n",
    "grid(axis='both',linestyle='--')\n",
    "legend()\n",
    "show()"
   ]
  },
  {
   "cell_type": "code",
   "execution_count": null,
   "metadata": {},
   "outputs": [],
   "source": []
  },
  {
   "cell_type": "code",
   "execution_count": null,
   "metadata": {},
   "outputs": [],
   "source": []
  }
 ],
 "metadata": {
  "interpreter": {
   "hash": "8b2adaf1374578fbff93f00816158cd763fc54fce8c84cb3733c35fd4caa16a2"
  },
  "kernelspec": {
   "display_name": "Python 3 (ipykernel)",
   "language": "python",
   "name": "python3"
  },
  "language_info": {
   "codemirror_mode": {
    "name": "ipython",
    "version": 3
   },
   "file_extension": ".py",
   "mimetype": "text/x-python",
   "name": "python",
   "nbconvert_exporter": "python",
   "pygments_lexer": "ipython3",
   "version": "3.8.11"
  }
 },
 "nbformat": 4,
 "nbformat_minor": 4
}
