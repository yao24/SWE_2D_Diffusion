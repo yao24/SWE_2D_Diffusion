{
 "cells": [
  {
   "cell_type": "markdown",
   "metadata": {},
   "source": [
    "\n",
    "```Author: Yao Gahounzo```\n",
    "\n",
    "This program solves the 2D-diffusion problem using the continuous Galerkin (CG) method. The method is implemented with two different boundary conditions, Dirichlet, and Neumann. The CG method derivation and all the necessary mathematics are in the file [CG_method.pdf](./CG_method.pdf).\n",
    "\n",
    "This program call the module func_2D which contains all the subroutines needed in the CG method.\n"
   ]
  },
  {
   "cell_type": "code",
   "execution_count": null,
   "metadata": {},
   "outputs": [],
   "source": [
    "%matplotlib notebook\n",
    "%pylab\n",
    "from scipy.interpolate import griddata\n",
    "from matplotlib import cm\n",
    "import pandas as pd\n",
    "from time import perf_counter\n",
    "from sympy import*\n",
    "import warnings\n",
    "warnings.filterwarnings('ignore')"
   ]
  },
  {
   "cell_type": "code",
   "execution_count": null,
   "metadata": {},
   "outputs": [],
   "source": [
    "# Call module func_2D\n",
    "from func_2D import*"
   ]
  },
  {
   "cell_type": "code",
   "execution_count": null,
   "metadata": {},
   "outputs": [],
   "source": [
    "# Domain of integration, look into func_2D module to add your own problem or initial condition\n",
    "\n",
    "def domain(icase):\n",
    "    \n",
    "    \n",
    "    if(icase == 1):\n",
    "        ax = -1 ; bx = 1 ; coeff = 1.0\n",
    "    elif(icase == 2):\n",
    "        ax = 0 ; bx = 2*pi ; coeff = 1.0\n",
    "    elif(icase == 3):\n",
    "        ax = -1 ; bx = 1 ; coeff = 1.0\n",
    "    elif(icase == 4):\n",
    "        ax = -1 ; bx = 1 ; coeff = 0.01\n",
    "    \n",
    "    print(\"====================================\")\n",
    "    print(\"Problem: Diffusion\")\n",
    "    print(\"Domain: [{}, {}]\".format(ax,bx)) \n",
    "    print(\"Diffusivity: {}\".format(coeff))\n",
    "    #print(\"====================================\\n\")\n",
    "    \n",
    "    return ax, bx, coeff\n",
    "\n",
    "# Boundary conditions\n",
    "def bc_type(alpha,beta):\n",
    "    \n",
    "    if(alpha == 0 and beta == 1):\n",
    "        print(\"Boundary conditions: Dirichlet\")\n",
    "    elif(alpha == 1 and beta == 0):\n",
    "        print(\"Boundary conditions: Neumann\")\n",
    "    print(\"====================================\\n\")    "
   ]
  },
  {
   "cell_type": "code",
   "execution_count": null,
   "metadata": {
    "scrolled": false
   },
   "outputs": [],
   "source": [
    "order = array([4])        # polynomial order\n",
    "N_element = array([4])\n",
    "kstages = 3\n",
    "#cfl = 0.25\n",
    "dt = 1e-2\n",
    "Tfinal = 0.5\n",
    "\n",
    "time_method = \"BDF3\"      # IRK or BDF3\n",
    "integration_type = 1      # % = 1 is inexact and = 2 is exact\n",
    "iplot = False             # plot the solution\n",
    "icase = 4                 # select icase: 1,2,3,4\n",
    "\n",
    "alpha = 0              \n",
    "beta = 1                  # Neumann: alpha = 1, beta = 0\n",
    "                          # Dirichlet: alpha = 0, beta = 1\n",
    "    \n",
    "# Domain and diffusion coefficient\n",
    "\n",
    "ax,bx,c = domain(icase)\n",
    "bc_type(alpha,beta)\n",
    "\n",
    "len_el = len(N_element)\n",
    "len_pol = len(order)\n",
    "l2e_norm = zeros((len_pol, len_el))\n",
    "max_norm = zeros((len_pol, len_el))\n",
    "\n",
    "Nv = N_element\n",
    "    \n",
    "for iN,N in enumerate(order):\n",
    "    \n",
    "    cfl = 1/(N+1)       # cfl number\n",
    "    \n",
    "    N = order[iN]\n",
    "    if (integration_type == 1):\n",
    "        Q = N\n",
    "    elif (integration_type == 2):\n",
    "        Q = N+1\n",
    "\n",
    "    wall = 0\n",
    "    \n",
    "\n",
    "    for e, nel in enumerate(Nv):\n",
    "            \n",
    "        Nelx = nel; Nely = nel\n",
    "        Nx = Nelx*N+1\n",
    "        Ny = Nely*N+1\n",
    "        Np = Nx*Ny\n",
    "        Ne = Nelx*Nely\n",
    "        #Nbound = 2*Nelx + 2*(Nely)\n",
    "        Nbound = 2*Nx + 2*(Ny-2)\n",
    "        Nside = 2*Ne + Nelx + Nely\n",
    "        \n",
    "        tic = perf_counter()\n",
    "        \n",
    "    \n",
    "        qe, q,coord,intma = diffusion_solver(N,Q,Ne, Np, ax, bx, Nelx, Nely, Nx, Ny, Nbound,Nside,\\\n",
    "                                             icase,Tfinal,dt,c,cfl,kstages,time_method,alpha,beta)\n",
    "        \n",
    "        #Compute Norm\n",
    "        \n",
    "        top = 0\n",
    "        bot = 0\n",
    "\n",
    "        for i in range(Np):\n",
    "            top += (q[i] - qe[i])**2\n",
    "            bot += qe[i]**2\n",
    "\n",
    "        e2 = sqrt(top/bot)\n",
    "        \n",
    "        l2e_norm[iN,e] = e2\n",
    "        "
   ]
  },
  {
   "cell_type": "code",
   "execution_count": null,
   "metadata": {},
   "outputs": [],
   "source": [
    "xmin = min(coord[:,0])\n",
    "xmax = max(coord[:,0])\n",
    "ymin = min(coord[:,1])\n",
    "ymax = max(coord[:,1])\n",
    "xe = coord[:,0]\n",
    "ye = coord[:,1]\n",
    "nx = 200\n",
    "ny = 200\n",
    "dx = (xmax-xmin)/nx\n",
    "dy = (ymax-ymin)/ny\n",
    "x1 = arange(xmin,xmax+dx,dx)\n",
    "y1 = arange(ymin,ymax+dy,dy)\n",
    "xi,yi = meshgrid(x1,y1)"
   ]
  },
  {
   "cell_type": "code",
   "execution_count": null,
   "metadata": {},
   "outputs": [],
   "source": [
    "\n",
    "q_2d = griddata((xe,ye),q,(xi,yi), method='cubic')\n",
    "\n",
    "fig = figure(2)\n",
    "fx = fig.add_subplot(111, projection='3d')\n",
    "surf = fx.plot_surface(xi,yi,q_2d,rstride = 1, cstride = 1,cmap=cm.coolwarm,antialiased=False)\n",
    "fig.colorbar(surf)\n",
    "\n",
    "title(\"Numerical solution\")\n",
    "xlabel(\"x\")\n",
    "ylabel(\"y\")\n",
    "\n",
    "show()"
   ]
  },
  {
   "cell_type": "code",
   "execution_count": null,
   "metadata": {},
   "outputs": [],
   "source": [
    "\n",
    "qe_2d = griddata((xe,ye),qe,(xi,yi), method='cubic')\n",
    "\n",
    "fig = figure(3)\n",
    "fx = fig.add_subplot(111, projection='3d')\n",
    "surf = fx.plot_surface(xi,yi,qe_2d,rstride = 1, cstride = 1, cmap=cm.coolwarm,antialiased=False)\n",
    "fig.colorbar(surf,anchor=(0, 0.3), shrink=0.7)\n",
    "title(\"Exact solution\")\n",
    "xlabel(\"x\")\n",
    "ylabel(\"y\")\n",
    "show()"
   ]
  },
  {
   "cell_type": "code",
   "execution_count": null,
   "metadata": {
    "scrolled": false
   },
   "outputs": [],
   "source": [
    "figure(4)\n",
    "imshow(q_2d, extent=[ax, bx, ax, bx],origin='lower',cmap=cm.coolwarm)\n",
    "colorbar()\n",
    "clim(q.min(), q.max())\n",
    "title(\"Numerical solution\")\n",
    "xlabel(\"x\")\n",
    "ylabel(\"y\")\n",
    "show()"
   ]
  },
  {
   "cell_type": "code",
   "execution_count": null,
   "metadata": {},
   "outputs": [],
   "source": [
    "print(\"min_q = \",q.min())\n",
    "print(\"max_q = \",q.max())"
   ]
  },
  {
   "cell_type": "code",
   "execution_count": null,
   "metadata": {},
   "outputs": [],
   "source": []
  }
 ],
 "metadata": {
  "kernelspec": {
   "display_name": "Python 3 (ipykernel)",
   "language": "python",
   "name": "python3"
  },
  "language_info": {
   "codemirror_mode": {
    "name": "ipython",
    "version": 3
   },
   "file_extension": ".py",
   "mimetype": "text/x-python",
   "name": "python",
   "nbconvert_exporter": "python",
   "pygments_lexer": "ipython3",
   "version": "3.8.11"
  }
 },
 "nbformat": 4,
 "nbformat_minor": 4
}
